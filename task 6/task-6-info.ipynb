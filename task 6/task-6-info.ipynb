{
 "cells": [
  {
   "cell_type": "code",
   "execution_count": 40,
   "metadata": {
    "_cell_guid": "b1076dfc-b9ad-4769-8c92-a6c4dae69d19",
    "_uuid": "8f2839f25d086af736a60e9eeb907d3b93b6e0e5",
    "execution": {
     "iopub.execute_input": "2022-06-23T18:14:04.797198Z",
     "iopub.status.busy": "2022-06-23T18:14:04.796401Z",
     "iopub.status.idle": "2022-06-23T18:14:04.807963Z",
     "shell.execute_reply": "2022-06-23T18:14:04.807063Z",
     "shell.execute_reply.started": "2022-06-23T18:14:04.797157Z"
    }
   },
   "outputs": [],
   "source": [
    "# This Python 3 environment comes with many helpful analytics libraries installed\n",
    "# It is defined by the kaggle/python Docker image: https://github.com/kaggle/docker-python\n",
    "# For example, here's several helpful packages to load\n",
    "\n",
    "import numpy as np # linear algebra\n",
    "import pandas as pd # data processing, CSV file I/O (e.g. pd.read_csv)\n",
    "\n",
    "# Input data files are available in the read-only \"../input/\" directory\n",
    "# For example, running this (by clicking run or pressing Shift+Enter) will list all files under the input directory\n",
    "\n",
    "import os,glob\n",
    "import os.path\n",
    "\n",
    "ext = \"*.txt\"\n",
    "PATH = \"../input/txt-generation/generation_texts\"\n",
    "\n",
    "# Find all the files with that extension\n",
    "files = []\n",
    "for dirpath, dirnames, filenames in os.walk(PATH):\n",
    "    files += glob.glob(os.path.join(dirpath, ext))\n",
    "\n",
    "# You can write up to 20GB to the current directory (/kaggle/working/) that gets preserved as output when you create a version using \"Save & Run All\" \n",
    "# You can also write temporary files to /kaggle/temp/, but they won't be saved outside of the current session"
   ]
  },
  {
   "cell_type": "code",
   "execution_count": 47,
   "metadata": {
    "execution": {
     "iopub.execute_input": "2022-06-23T18:54:10.642710Z",
     "iopub.status.busy": "2022-06-23T18:54:10.642308Z",
     "iopub.status.idle": "2022-06-23T18:54:10.675958Z",
     "shell.execute_reply": "2022-06-23T18:54:10.674198Z",
     "shell.execute_reply.started": "2022-06-23T18:54:10.642677Z"
    }
   },
   "outputs": [],
   "source": [
    "df=pd.DataFrame(columns=('filename','txt'))\n",
    "\n",
    "for idx,filename in enumerate(files):\n",
    "    file=open(filename,'r')\n",
    "    text=file.read()\n",
    "    df.iloc[idx]=[filename,text]\n",
    "print(df)\n",
    "    \n"
   ]
  },
  {
   "cell_type": "code",
   "execution_count": 10,
   "metadata": {
    "execution": {
     "iopub.execute_input": "2022-06-23T17:19:05.738094Z",
     "iopub.status.busy": "2022-06-23T17:19:05.737724Z",
     "iopub.status.idle": "2022-06-23T17:19:05.810819Z",
     "shell.execute_reply": "2022-06-23T17:19:05.809801Z",
     "shell.execute_reply.started": "2022-06-23T17:19:05.738065Z"
    }
   },
   "outputs": [],
   "source": [
    "#read dataset author names\n",
    "authors_name=pd.read_csv('../input/author-info/author_name.csv')\n",
    "authors_name"
   ]
  },
  {
   "cell_type": "code",
   "execution_count": 37,
   "metadata": {
    "execution": {
     "iopub.execute_input": "2022-06-23T18:09:03.300675Z",
     "iopub.status.busy": "2022-06-23T18:09:03.300241Z",
     "iopub.status.idle": "2022-06-23T18:09:03.305465Z",
     "shell.execute_reply": "2022-06-23T18:09:03.304514Z",
     "shell.execute_reply.started": "2022-06-23T18:09:03.300639Z"
    }
   },
   "outputs": [],
   "source": [
    "full_name=list(authors_name['full_name'])\n",
    "# full_name"
   ]
  },
  {
   "cell_type": "code",
   "execution_count": 42,
   "metadata": {
    "execution": {
     "iopub.execute_input": "2022-06-23T18:14:23.523929Z",
     "iopub.status.busy": "2022-06-23T18:14:23.523543Z",
     "iopub.status.idle": "2022-06-23T18:14:23.532905Z",
     "shell.execute_reply": "2022-06-23T18:14:23.532128Z",
     "shell.execute_reply.started": "2022-06-23T18:14:23.523897Z"
    }
   },
   "outputs": [],
   "source": [
    "f=open(\"../input/titlegpt-2/title.txt\")\n",
    "line = f.readline()\n",
    "columns=[]\n",
    "while line:\n",
    "    columns.append(line.rstrip('\\n'))\n",
    "    line = f.readline()\n",
    "columns=list(set(columns))\n",
    "\n",
    "for c in columns:\n",
    "    if c=='':\n",
    "        columns.remove(c)\n",
    "# columns"
   ]
  },
  {
   "cell_type": "code",
   "execution_count": 45,
   "metadata": {
    "execution": {
     "iopub.execute_input": "2022-06-23T18:14:39.059497Z",
     "iopub.status.busy": "2022-06-23T18:14:39.059121Z",
     "iopub.status.idle": "2022-06-23T18:14:39.064855Z",
     "shell.execute_reply": "2022-06-23T18:14:39.063715Z",
     "shell.execute_reply.started": "2022-06-23T18:14:39.059467Z"
    }
   },
   "outputs": [],
   "source": [
    "for column in columns:\n",
    "    if column==' ':\n",
    "        columns.remove(column)\n",
    "# print(columns)"
   ]
  },
  {
   "cell_type": "code",
   "execution_count": 39,
   "metadata": {
    "execution": {
     "iopub.execute_input": "2022-06-23T18:10:36.156445Z",
     "iopub.status.busy": "2022-06-23T18:10:36.156042Z",
     "iopub.status.idle": "2022-06-23T18:10:36.162072Z",
     "shell.execute_reply": "2022-06-23T18:10:36.161008Z",
     "shell.execute_reply.started": "2022-06-23T18:10:36.156401Z"
    }
   },
   "outputs": [],
   "source": [
    "print(len(columns))"
   ]
  },
  {
   "cell_type": "code",
   "execution_count": 48,
   "metadata": {
    "execution": {
     "iopub.execute_input": "2022-06-23T18:55:58.679629Z",
     "iopub.status.busy": "2022-06-23T18:55:58.678796Z",
     "iopub.status.idle": "2022-06-23T18:55:58.704700Z",
     "shell.execute_reply": "2022-06-23T18:55:58.703560Z",
     "shell.execute_reply.started": "2022-06-23T18:55:58.679576Z"
    }
   },
   "outputs": [],
   "source": [
    "dataframe={\n",
    "    'author':full_name,\n",
    "    'title':columns\n",
    "}\n",
    "data=pd.DataFrame(dataframe)\n",
    "data"
   ]
  }
 ],
 "metadata": {
  "kernelspec": {
   "display_name": "Python 3 (ipykernel)",
   "language": "python",
   "name": "python3"
  },
  "language_info": {
   "codemirror_mode": {
    "name": "ipython",
    "version": 3
   },
   "file_extension": ".py",
   "mimetype": "text/x-python",
   "name": "python",
   "nbconvert_exporter": "python",
   "pygments_lexer": "ipython3",
   "version": "3.9.7"
  }
 },
 "nbformat": 4,
 "nbformat_minor": 4
}
